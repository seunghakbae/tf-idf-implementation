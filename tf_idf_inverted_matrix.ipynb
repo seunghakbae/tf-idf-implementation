{
 "cells": [
  {
   "cell_type": "code",
   "execution_count": 2,
   "metadata": {},
   "outputs": [],
   "source": [
    "import os\n",
    "import pandas as pd"
   ]
  },
  {
   "cell_type": "code",
   "execution_count": 3,
   "metadata": {},
   "outputs": [],
   "source": [
    "# 모든 document를 저장할 수 있는 text_set 선언\n",
    "text_set = [] "
   ]
  },
  {
   "cell_type": "code",
   "execution_count": 4,
   "metadata": {
    "scrolled": true
   },
   "outputs": [],
   "source": [
    "# open the folder where documents are saved, and save all the documents\n",
    "path = 'data/'\n",
    "\n",
    "for filename in os.listdir(path):\n",
    "    file = open(os.path.join(path,filename), 'r', encoding='utf-8')\n",
    "    text = file.readlines()\n",
    "    text_set.append(text)"
   ]
  },
  {
   "cell_type": "code",
   "execution_count": 5,
   "metadata": {
    "scrolled": true
   },
   "outputs": [
    {
     "data": {
      "text/plain": [
       "[' (CNN)If you remember Miley twerking or Kanye\\'s mic-snatching, you\\'ll know music awards can get chaotic.Like on Tuesday, when singer Taylor Swift took a Twitter dig at hip-hop queen Nicki Minaj and the Internet erupted into a sprawling conversation about race and gender. And then Kim Kardashian got involved. Stay with us.\\'Black women are rarely rewarded\\'It started when Minaj took to her keyboard to vent after one of her biggest hits wasn\\'t nominated for video of the year for the MTV Video Music Awards.Mind you, this isn\\'t any old clip. \"Anaconda,\" an uproarious, raunchy twist on pop culture portrayals of curvy black women, received 19.6 million clicks in its first 24 hours, a music video record at the time. So the rapper had a reason to be upset when she was snubbed -- and she made her reasoning clear.\"If I was a different \\'kind\\' of artist, Anaconda would be nominated for best choreo and vid of the year as well,\" said Minaj.\"Black women influence pop culture so much but are rarely rewarded for it.\"She then tweeted: \"If your video celebrates women with very slim bodies, you will be nominated for vid of the year.\"That\\'s when Taylor Swift -- who describes herself as a feminist -- jumped in, apparently taking the tweets personally.\"I\\'ve done nothing but love & support you. It\\'s unlike you to pit women against each other. Maybe one of the men took your slot,\" she wrote.Unlike \"Anaconda,\" Swift\\'s video for \"Bad Blood\" was nominated for the top award. Featuring whisper-thin supermodels wielding guns, the pseudo-action movie dethroned Minaj\\'s video for most views in one day when it was released this year.It was a surprisingly barbed volley from a singer known for her meticulously crafted public image -- even Nicki Minaj seemed taken aback. \"Didn\\'t say a word about u,\" she replied.The rapper then retweeted a supporter who accused Taylor Swift of not being \"critical of racist media.\"Swift followed up with what seemed to be an attempt to smooth things over. \"You\\'re invited to any stage I\\'m ever on,\" she said.Miley Cyrus to host VMAsA double standard?Twitter wasn\\'t buying it: As \"Nicki\" and \"Taylor\" became worldwide trends, thousands of users came to Nicki Minaj\\'s defense.Many said the stars\\' exchange showed a double standard: Swift was widely praised as brave for speaking up about problems in the music industry last month -- now Minaj was getting lashed for doing the same. Nicki was making an important point, they argued: Not all women\\'s experiences are the same, but black women don\\'t often get taken as seriously.Users expressed disapproval with the contrasting way some media portrayed the respective artists: Taylor Swift -- beautiful, pure; Nicki Minaj -- hysterical, angry.Janet Mock, a writer and trans woman activist, suggested flipping the script, posting a picture of an angry Swift and a calm Minaj.It wasn\\'t long before at least one publication -- Entertainment Weekly -- apologized for their \"insensitive juxtaposition of photos.\"For many users, Swift and Minaj\\'s interaction reflected an all-too-familiar dynamic: A black woman makes a point, and a white woman tells her to simmer down or hijacks the conversation in the name of feminism.\"A black woman speaks up on racial problems within the music industry. A white woman makes it completely about herself,\" said user XLNB.Supporters of Taylor Swift began defending the singer with the hashtag #TeamTaylor. Some argued Beyonce\\'s nomination meant Nicki\\'s omission couldn\\'t have been about race.But at day\\'s end there were more than double the amount of tweets using the hashtag #TeamNicki, according to Topsy, a Twitter analytics site.Kim Kardashian, Bruno Mars join the frayThen, the conversation took a slightly absurd turn as Kim Kardashian waded into the story -- unwittingly, she claims.As the Nicki and Taylor saga continued to ride high in Twitter\\'s trends, the reality show star tweeted a photo of herself with the caption, \"Imma let you finish but...\"For those of you who missed the reference: Kanye West -- Kim Kardashian\\'s husband -- uttered that phrase when he grabbed the microphone from Taylor Swift at the MTV Music Video Awards in 2009. So it sounded like Kim was telling Taylor to back off. Something she frantically denied once users started pointing out the connection.\"Wait wait I\\'m in Paris it\\'s the middle of the night & I\\'m posting my Vogue Spain pics not having a clue what\\'s going on in the music world,\" she wrote.If that weren\\'t enough drama for an evening, rapper Meek Mill, Nicki Minaj\\'s boyfriend, decided before midnight that it would be a perfect time to launch an attack on superstar hip-hop artist Drake.But in the end, it was mild-mannered Bruno Mars, a video of the year nominee, who may have won the night, with a joking provocation of fellow nominee Ed Sheeran.\"Yo I want in on this twitter Beef!! VMAs is the new WWF!! @edsheeran F*** You!\" he said.And that is how the Internet works.']"
      ]
     },
     "execution_count": 5,
     "metadata": {},
     "output_type": "execute_result"
    }
   ],
   "source": [
    "text_set[0]"
   ]
  },
  {
   "cell_type": "markdown",
   "metadata": {},
   "source": [
    "# TF-IDF Flow\n",
    "\n",
    "- 1. 각 text별로 tokenize를 한다. \n",
    "- 2. token에서 stopwords나 필요없는 부분을 제거하고 stemming을 해준다. \n",
    "- 3. 각 document, 각 token별 token 몇개 있는지 구한 다음, table로 저장한다. \n",
    "- 4. 각 token별 어떤 document가 있는 지 inverted index를 구한다. \n",
    "- 5. query가 속한 document들만 가져온다. \n",
    "- 6. tf-idf를 구한다.\n",
    "- 7. query의 tf-idf를 구한다. \n",
    "- 8. cosine-similarity를 구한다. "
   ]
  },
  {
   "cell_type": "markdown",
   "metadata": {},
   "source": [
    "# NLTK Preprocessing\n",
    "\n",
    "### 1. 각 text별로 tokenize를 한다. \n",
    "### 2. token에서 stopwords나 필요없는 부분을 제거하고 stemming을 해준다. "
   ]
  },
  {
   "cell_type": "code",
   "execution_count": 9,
   "metadata": {},
   "outputs": [],
   "source": [
    "import nltk\n",
    "from nltk.corpus import stopwords\n",
    "from nltk import word_tokenize\n",
    "from nltk.stem.porter import PorterStemmer\n",
    "import re"
   ]
  },
  {
   "cell_type": "code",
   "execution_count": 7,
   "metadata": {},
   "outputs": [],
   "source": [
    "# stopwords 불러오기.\n",
    "stop = set(stopwords.words('english'))"
   ]
  },
  {
   "cell_type": "code",
   "execution_count": 10,
   "metadata": {},
   "outputs": [],
   "source": [
    "# 영어 소문자만 걸러내기 위한 regex\n",
    "regex = re.compile('^[a-z]*[a-z]$')"
   ]
  },
  {
   "cell_type": "code",
   "execution_count": 46,
   "metadata": {},
   "outputs": [],
   "source": [
    "vocab_set = set() # 모든 단어의 set\n",
    "vocab_list = [] # 각 document별로 단어.\n",
    "porter_stemmer = PorterStemmer() # stemmer\n",
    "\n",
    "#for i in range(len(text_set)):\n",
    "for i in range(len(text_set)):\n",
    "    tokenized_temp = word_tokenize(text_set[i][0].lower()) # 소문자로 만든 뒤 tokenized를 했다. \n",
    "    split_tokenized = [] # hypen이나 .으로 연결되어 있는 token들을 포함하여 전체적인 token을 일시적으로 포함하는 list.\n",
    "    \n",
    "    for token in tokenized_temp:\n",
    "        if '-' in token: # '-'으로 연결되어 있으면 나눠준다. \n",
    "            split_tokens = token.split('-')\n",
    "            for split_token in split_tokens:\n",
    "                split_tokenized.append(split_token)\n",
    "        elif '.' in token: # '.'으로 연결되어 있으면 나눠준다. \n",
    "            split_tokens = token.split('.')\n",
    "            for split_token in split_tokens:\n",
    "                split_tokenized.append(split_token)\n",
    "        else: # 해당되지 않으면 넣는다. \n",
    "            split_tokenized.append(token)\n",
    "    \n",
    "    # stopwords가 아닌것과 알파벳인것만 vocab_list에 넣는다. \n",
    "    vocab_list.append([porter_stemmer.stem(token) for token in split_tokenized if token not in stop and regex.match(token)])\n",
    "    \n",
    "    # 각 vocab을 vocab_set에 넣는다. \n",
    "    for vocab in vocab_list[i]:\n",
    "        vocab_set.add(vocab)"
   ]
  },
  {
   "cell_type": "code",
   "execution_count": 50,
   "metadata": {},
   "outputs": [
    {
     "data": {
      "text/plain": [
       "4091"
      ]
     },
     "execution_count": 50,
     "metadata": {},
     "output_type": "execute_result"
    }
   ],
   "source": [
    "len(vocab_set)"
   ]
  },
  {
   "cell_type": "code",
   "execution_count": 51,
   "metadata": {},
   "outputs": [
    {
     "data": {
      "text/plain": [
       "60"
      ]
     },
     "execution_count": 51,
     "metadata": {},
     "output_type": "execute_result"
    }
   ],
   "source": [
    "len(vocab_list)"
   ]
  },
  {
   "cell_type": "code",
   "execution_count": null,
   "metadata": {},
   "outputs": [],
   "source": []
  }
 ],
 "metadata": {
  "kernelspec": {
   "display_name": "Python 3",
   "language": "python",
   "name": "python3"
  },
  "language_info": {
   "codemirror_mode": {
    "name": "ipython",
    "version": 3
   },
   "file_extension": ".py",
   "mimetype": "text/x-python",
   "name": "python",
   "nbconvert_exporter": "python",
   "pygments_lexer": "ipython3",
   "version": "3.7.3"
  }
 },
 "nbformat": 4,
 "nbformat_minor": 2
}
