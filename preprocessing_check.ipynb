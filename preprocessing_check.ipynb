{
 "cells": [
  {
   "cell_type": "code",
   "execution_count": 22,
   "metadata": {},
   "outputs": [],
   "source": [
    "import os\n",
    "import pandas as pd\n",
    "import re"
   ]
  },
  {
   "cell_type": "code",
   "execution_count": 2,
   "metadata": {},
   "outputs": [],
   "source": [
    "# 모든 document를 저장할 수 있는 text_set 선언\n",
    "text_set = [] "
   ]
  },
  {
   "cell_type": "code",
   "execution_count": 3,
   "metadata": {
    "scrolled": true
   },
   "outputs": [],
   "source": [
    "# open the folder where documents are saved, and save all the documents\n",
    "path = 'data/'\n",
    "\n",
    "for filename in os.listdir(path):\n",
    "    file = open(os.path.join(path,filename), 'r', encoding='utf-8')\n",
    "    text = file.readlines()\n",
    "    text_set.append(text)"
   ]
  },
  {
   "cell_type": "code",
   "execution_count": 4,
   "metadata": {
    "scrolled": true
   },
   "outputs": [
    {
     "data": {
      "text/plain": [
       "[' (CNN)If you remember Miley twerking or Kanye\\'s mic-snatching, you\\'ll know music awards can get chaotic.Like on Tuesday, when singer Taylor Swift took a Twitter dig at hip-hop queen Nicki Minaj and the Internet erupted into a sprawling conversation about race and gender. And then Kim Kardashian got involved. Stay with us.\\'Black women are rarely rewarded\\'It started when Minaj took to her keyboard to vent after one of her biggest hits wasn\\'t nominated for video of the year for the MTV Video Music Awards.Mind you, this isn\\'t any old clip. \"Anaconda,\" an uproarious, raunchy twist on pop culture portrayals of curvy black women, received 19.6 million clicks in its first 24 hours, a music video record at the time. So the rapper had a reason to be upset when she was snubbed -- and she made her reasoning clear.\"If I was a different \\'kind\\' of artist, Anaconda would be nominated for best choreo and vid of the year as well,\" said Minaj.\"Black women influence pop culture so much but are rarely rewarded for it.\"She then tweeted: \"If your video celebrates women with very slim bodies, you will be nominated for vid of the year.\"That\\'s when Taylor Swift -- who describes herself as a feminist -- jumped in, apparently taking the tweets personally.\"I\\'ve done nothing but love & support you. It\\'s unlike you to pit women against each other. Maybe one of the men took your slot,\" she wrote.Unlike \"Anaconda,\" Swift\\'s video for \"Bad Blood\" was nominated for the top award. Featuring whisper-thin supermodels wielding guns, the pseudo-action movie dethroned Minaj\\'s video for most views in one day when it was released this year.It was a surprisingly barbed volley from a singer known for her meticulously crafted public image -- even Nicki Minaj seemed taken aback. \"Didn\\'t say a word about u,\" she replied.The rapper then retweeted a supporter who accused Taylor Swift of not being \"critical of racist media.\"Swift followed up with what seemed to be an attempt to smooth things over. \"You\\'re invited to any stage I\\'m ever on,\" she said.Miley Cyrus to host VMAsA double standard?Twitter wasn\\'t buying it: As \"Nicki\" and \"Taylor\" became worldwide trends, thousands of users came to Nicki Minaj\\'s defense.Many said the stars\\' exchange showed a double standard: Swift was widely praised as brave for speaking up about problems in the music industry last month -- now Minaj was getting lashed for doing the same. Nicki was making an important point, they argued: Not all women\\'s experiences are the same, but black women don\\'t often get taken as seriously.Users expressed disapproval with the contrasting way some media portrayed the respective artists: Taylor Swift -- beautiful, pure; Nicki Minaj -- hysterical, angry.Janet Mock, a writer and trans woman activist, suggested flipping the script, posting a picture of an angry Swift and a calm Minaj.It wasn\\'t long before at least one publication -- Entertainment Weekly -- apologized for their \"insensitive juxtaposition of photos.\"For many users, Swift and Minaj\\'s interaction reflected an all-too-familiar dynamic: A black woman makes a point, and a white woman tells her to simmer down or hijacks the conversation in the name of feminism.\"A black woman speaks up on racial problems within the music industry. A white woman makes it completely about herself,\" said user XLNB.Supporters of Taylor Swift began defending the singer with the hashtag #TeamTaylor. Some argued Beyonce\\'s nomination meant Nicki\\'s omission couldn\\'t have been about race.But at day\\'s end there were more than double the amount of tweets using the hashtag #TeamNicki, according to Topsy, a Twitter analytics site.Kim Kardashian, Bruno Mars join the frayThen, the conversation took a slightly absurd turn as Kim Kardashian waded into the story -- unwittingly, she claims.As the Nicki and Taylor saga continued to ride high in Twitter\\'s trends, the reality show star tweeted a photo of herself with the caption, \"Imma let you finish but...\"For those of you who missed the reference: Kanye West -- Kim Kardashian\\'s husband -- uttered that phrase when he grabbed the microphone from Taylor Swift at the MTV Music Video Awards in 2009. So it sounded like Kim was telling Taylor to back off. Something she frantically denied once users started pointing out the connection.\"Wait wait I\\'m in Paris it\\'s the middle of the night & I\\'m posting my Vogue Spain pics not having a clue what\\'s going on in the music world,\" she wrote.If that weren\\'t enough drama for an evening, rapper Meek Mill, Nicki Minaj\\'s boyfriend, decided before midnight that it would be a perfect time to launch an attack on superstar hip-hop artist Drake.But in the end, it was mild-mannered Bruno Mars, a video of the year nominee, who may have won the night, with a joking provocation of fellow nominee Ed Sheeran.\"Yo I want in on this twitter Beef!! VMAs is the new WWF!! @edsheeran F*** You!\" he said.And that is how the Internet works.']"
      ]
     },
     "execution_count": 4,
     "metadata": {},
     "output_type": "execute_result"
    }
   ],
   "source": [
    "text_set[0]"
   ]
  },
  {
   "cell_type": "markdown",
   "metadata": {},
   "source": [
    "# TF-IDF Flow\n",
    "\n",
    "### 1. 각 text별로 tokenize를 한다. \n",
    "### 2. token에서 stopwords나 필요없는 부분을 제거하고 stemming을 해준다. \n",
    "### 3. 각 document, 각 token별 token 몇개 있는지 구한 다음, table로 저장한다. \n",
    "### 4. 각 token별 어떤 document가 있는 지 inverted index를 구한다. \n",
    "### 5. query가 속한 document들만 가져온다. \n",
    "### 6. tf-idf를 구한다.\n",
    "### 7. query의 tf-idf를 구한다. \n",
    "### 8. cosine-similarity를 구한다. "
   ]
  },
  {
   "cell_type": "markdown",
   "metadata": {},
   "source": [
    "# nltk"
   ]
  },
  {
   "cell_type": "code",
   "execution_count": 5,
   "metadata": {},
   "outputs": [],
   "source": [
    "import nltk\n",
    "from nltk.corpus import stopwords\n",
    "from nltk import word_tokenize\n",
    "from nltk.stem.porter import PorterStemmer"
   ]
  },
  {
   "cell_type": "code",
   "execution_count": 6,
   "metadata": {},
   "outputs": [],
   "source": [
    "# stopwords 불러오기.\n",
    "stop = set(stopwords.words('english'))"
   ]
  },
  {
   "cell_type": "code",
   "execution_count": 7,
   "metadata": {},
   "outputs": [],
   "source": [
    "stop.add('\\'')"
   ]
  },
  {
   "cell_type": "code",
   "execution_count": 8,
   "metadata": {},
   "outputs": [],
   "source": [
    "stop.add('\\\"')"
   ]
  },
  {
   "cell_type": "code",
   "execution_count": 9,
   "metadata": {},
   "outputs": [],
   "source": [
    "stop.add(\"!\")\n",
    "stop.add(\"?\")\n",
    "stop.add(\"@\")\n",
    "stop.add(\"*\")\n",
    "stop.add(\"^\")\n",
    "stop.add(\"\\\"\\\"\")\n",
    "stop.add(\"\\'\\'\")\n",
    "stop.add(\"#\")\n",
    "stop.add(\"$\")\n",
    "stop.add(\"%\")\n",
    "stop.add(\"(\")\n",
    "stop.add(\")\")\n",
    "stop.add(',')\n",
    "stop.add('.')\n",
    "stop.add(',')\n"
   ]
  },
  {
   "cell_type": "code",
   "execution_count": 10,
   "metadata": {},
   "outputs": [],
   "source": [
    "vocab_list = []\n",
    "porter_stemmer = PorterStemmer()"
   ]
  },
  {
   "cell_type": "code",
   "execution_count": 26,
   "metadata": {},
   "outputs": [],
   "source": [
    "token_set = set()"
   ]
  },
  {
   "cell_type": "code",
   "execution_count": 56,
   "metadata": {},
   "outputs": [],
   "source": [
    "regex = re.compile('^[a-z]*[a-z]$')"
   ]
  },
  {
   "cell_type": "code",
   "execution_count": 68,
   "metadata": {},
   "outputs": [
    {
     "name": "stdout",
     "output_type": "stream",
     "text": [
      "['cnn', 'remember', 'miley', 'twerking', 'kanye', 'mic', 'snatching', 'know', 'music', 'awards', 'get', 'chaotic', 'like', 'tuesday', 'singer', 'taylor', 'swift', 'took', 'twitter', 'dig', 'hip', 'hop', 'queen', 'nicki', 'minaj', 'internet', 'erupted', 'sprawling', 'conversation', 'race', 'gender', 'kim', 'kardashian', 'got', 'involved', 'stay', 'us', 'women', 'rarely', 'started', 'minaj', 'took', 'keyboard', 'vent', 'one', 'biggest', 'hits', 'nominated', 'video', 'year', 'mtv', 'video', 'music', 'awards', 'mind', 'old', 'clip', 'anaconda', 'uproarious', 'raunchy', 'twist', 'pop', 'culture', 'portrayals', 'curvy', 'black', 'women', 'received', 'million', 'clicks', 'first', 'hours', 'music', 'video', 'record', 'time', 'rapper', 'reason', 'upset', 'snubbed', 'made', 'reasoning', 'clear', 'different', 'artist', 'anaconda', 'would', 'nominated', 'best', 'choreo', 'vid', 'year', 'well', 'said', 'minaj', 'black', 'women', 'influence', 'pop', 'culture', 'much', 'rarely', 'rewarded', 'tweeted', 'video', 'celebrates', 'women', 'slim', 'bodies', 'nominated', 'vid', 'year', 'taylor', 'swift', 'describes', 'feminist', 'jumped', 'apparently', 'taking', 'tweets', 'personally', 'done', 'nothing', 'love', 'support', 'unlike', 'pit', 'women', 'maybe', 'one', 'men', 'took', 'slot', 'wrote', 'unlike', 'anaconda', 'swift', 'video', 'bad', 'blood', 'nominated', 'top', 'award', 'featuring', 'whisper', 'thin', 'supermodels', 'wielding', 'guns', 'pseudo', 'action', 'movie', 'dethroned', 'minaj', 'video', 'views', 'one', 'day', 'released', 'year', 'surprisingly', 'barbed', 'volley', 'singer', 'known', 'meticulously', 'crafted', 'public', 'image', 'even', 'nicki', 'minaj', 'seemed', 'taken', 'aback', 'say', 'word', 'u', 'replied', 'rapper', 'retweeted', 'supporter', 'accused', 'taylor', 'swift', 'critical', 'racist', 'media', 'swift', 'followed', 'seemed', 'attempt', 'smooth', 'things', 'invited', 'stage', 'ever', 'said', 'miley', 'cyrus', 'host', 'vmasa', 'double', 'standard', 'twitter', 'buying', 'nicki', 'taylor', 'became', 'worldwide', 'trends', 'thousands', 'users', 'came', 'nicki', 'minaj', 'defense', 'many', 'said', 'stars', 'exchange', 'showed', 'double', 'standard', 'swift', 'widely', 'praised', 'brave', 'speaking', 'problems', 'music', 'industry', 'last', 'month', 'minaj', 'getting', 'lashed', 'nicki', 'making', 'important', 'point', 'argued', 'women', 'experiences', 'black', 'women', 'often', 'get', 'taken', 'seriously', 'users', 'expressed', 'disapproval', 'contrasting', 'way', 'media', 'portrayed', 'respective', 'artists', 'taylor', 'swift', 'beautiful', 'pure', 'nicki', 'minaj', 'hysterical', 'angry', 'janet', 'mock', 'writer', 'trans', 'woman', 'activist', 'suggested', 'flipping', 'script', 'posting', 'picture', 'angry', 'swift', 'calm', 'minaj', 'long', 'least', 'one', 'publication', 'entertainment', 'weekly', 'apologized', 'insensitive', 'juxtaposition', 'photos', 'many', 'users', 'swift', 'minaj', 'interaction', 'reflected', 'familiar', 'dynamic', 'black', 'woman', 'makes', 'point', 'white', 'woman', 'tells', 'simmer', 'hijacks', 'conversation', 'name', 'feminism', 'black', 'woman', 'speaks', 'racial', 'problems', 'within', 'music', 'industry', 'white', 'woman', 'makes', 'completely', 'said', 'user', 'xlnb', 'supporters', 'taylor', 'swift', 'began', 'defending', 'singer', 'hashtag', 'teamtaylor', 'argued', 'beyonce', 'nomination', 'meant', 'nicki', 'omission', 'could', 'race', 'day', 'end', 'double', 'amount', 'tweets', 'using', 'hashtag', 'teamnicki', 'according', 'topsy', 'twitter', 'analytics', 'site', 'kim', 'kardashian', 'bruno', 'mars', 'join', 'fraythen', 'conversation', 'took', 'slightly', 'absurd', 'turn', 'kim', 'kardashian', 'waded', 'story', 'unwittingly', 'claims', 'nicki', 'taylor', 'saga', 'continued', 'ride', 'high', 'twitter', 'trends', 'reality', 'show', 'star', 'tweeted', 'photo', 'caption', 'imma', 'let', 'finish', 'missed', 'reference', 'kanye', 'west', 'kim', 'kardashian', 'husband', 'uttered', 'phrase', 'grabbed', 'microphone', 'taylor', 'swift', 'mtv', 'music', 'video', 'awards', 'sounded', 'like', 'kim', 'telling', 'taylor', 'back', 'something', 'frantically', 'denied', 'users', 'started', 'pointing', 'connection', 'wait', 'wait', 'paris', 'middle', 'night', 'posting', 'vogue', 'spain', 'pics', 'clue', 'going', 'music', 'world', 'wrote', 'enough', 'drama', 'evening', 'rapper', 'meek', 'mill', 'nicki', 'minaj', 'boyfriend', 'decided', 'midnight', 'would', 'perfect', 'time', 'launch', 'attack', 'superstar', 'hip', 'hop', 'artist', 'drake', 'end', 'mild', 'mannered', 'bruno', 'mars', 'video', 'year', 'nominee', 'may', 'night', 'joking', 'provocation', 'fellow', 'nominee', 'ed', 'sheeran', 'yo', 'want', 'twitter', 'beef', 'vmas', 'new', 'wwf', 'edsheeran', 'said', 'internet', 'works']\n"
     ]
    }
   ],
   "source": [
    "tokenized_temp = word_tokenize(text_set[0][0].lower()) # 소문자로 만든 뒤 tokenized를 했다. \n",
    "split_tokenized = []\n",
    "\n",
    "for token in tokenized_temp:\n",
    "    if '-' in token:\n",
    "        split_tokens = token.split('-')\n",
    "        for split_token in split_tokens:\n",
    "            split_tokenized.append(split_token)\n",
    "    elif '.' in token:\n",
    "        split_tokens = token.split('.')\n",
    "        for split_token in split_tokens:\n",
    "            split_tokenized.append(split_token)\n",
    "    else:\n",
    "        split_tokenized.append(token)\n",
    "\n",
    "tokenized = [token for token in split_tokenized if token not in stop and regex.match(token)]\n",
    "\n",
    "# for token in split_tokenized:\n",
    "#     if token not in stop:\n",
    "#         if regex.match(token):\n",
    "#             tokenized.append(token)\n",
    "\n",
    "print(tokenized)\n",
    "#token_set = set(tokenized)"
   ]
  },
  {
   "cell_type": "code",
   "execution_count": null,
   "metadata": {},
   "outputs": [],
   "source": []
  }
 ],
 "metadata": {
  "kernelspec": {
   "display_name": "Python 3",
   "language": "python",
   "name": "python3"
  },
  "language_info": {
   "codemirror_mode": {
    "name": "ipython",
    "version": 3
   },
   "file_extension": ".py",
   "mimetype": "text/x-python",
   "name": "python",
   "nbconvert_exporter": "python",
   "pygments_lexer": "ipython3",
   "version": "3.7.3"
  }
 },
 "nbformat": 4,
 "nbformat_minor": 2
}
